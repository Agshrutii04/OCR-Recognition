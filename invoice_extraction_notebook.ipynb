{
 "cells": [
  {
   "cell_type": "markdown",
   "metadata": {},
   "source": [
    "# 📄 Invoice Information Extraction Notebook\n",
    "\n",
    "This notebook demonstrates how to extract **invoice number, date, and line items** from invoice images using:\n",
    "- HuggingFace invoice dataset (`katanaml-org/invoices-donut-data-v1`)\n",
    "- OCR with Tesseract\n",
    "- Regex-based extraction\n",
    "- Optional HuggingFace Donut model\n",
    "\n",
    "---"
   ]
  },
  {
   "cell_type": "code",
   "execution_count": null,
   "metadata": {},
   "outputs": [],
   "source": [
    "# ✅ Install dependencies\n",
    "!pip install datasets pytesseract pillow pdf2image matplotlib\n",
    "!apt-get install -y tesseract-ocr\n",
    "\n",
    "# Optional: HuggingFace Donut model\n",
    "!pip install transformers accelerate timm sentencepiece"
   ]
  },
  {
   "cell_type": "code",
   "execution_count": null,
   "metadata": {},
   "outputs": [],
   "source": [
    "from datasets import load_dataset\n",
    "import pytesseract\n",
    "from PIL import Image\n",
    "import re, json\n",
    "import matplotlib.pyplot as plt\n",
    "\n",
    "# Load HuggingFace invoice dataset\n",
    "dataset = load_dataset(\"katanaml-org/invoices-donut-data-v1\")\n",
    "\n",
    "# Take first invoice sample\n",
    "sample = dataset['train'][0]\n",
    "img = sample['image']\n",
    "\n",
    "# Show invoice image\n",
    "plt.imshow(img)\n",
    "plt.axis('off')\n",
    "plt.show()\n",
    "\n",
    "text = pytesseract.image_to_string(img)\n",
    "print(text[:1000])  # preview OCR text"
   ]
  },
  {
   "cell_type": "code",
   "execution_count": null,
   "metadata": {},
   "outputs": [],
   "source": [
    "# ✅ Regex extractors\n",
    "invoice_number = re.search(r\"Invoice\\s*No\\.?[:\\s]*([A-Za-z0-9-]+)\", text, re.IGNORECASE)\n",
    "invoice_date = re.search(r\"Date[:\\s]*([0-9]{2}/[0-9]{2}/[0-9]{4})\", text, re.IGNORECASE)\n",
    "total_amount = re.search(r\"Total[:\\s]*\\$?([0-9,.]+)\", text, re.IGNORECASE)\n",
    "\n",
    "extracted_data = {\n",
    "    \"invoice_number\": invoice_number.group(1) if invoice_number else None,\n",
    "    \"invoice_date\": invoice_date.group(1) if invoice_date else None,\n",
    "    \"total_amount\": total_amount.group(1) if total_amount else None,\n",
    "}\n",
    "\n",
    "print(json.dumps(extracted_data, indent=2))"
   ]
  },
  {
   "cell_type": "code",
   "execution_count": null,
   "metadata": {},
   "outputs": [],
   "source": [
    "# ✅ Extract line items (very basic heuristic: look for rows with qty, price, total)\n",
    "lines = text.split('\\n')\n",
    "line_items = []\n",
    "for line in lines:\n",
    "    if re.search(r\"[0-9]+\\s+x\\s+\\$?[0-9,.]+\", line):\n",
    "        line_items.append(line.strip())\n",
    "\n",
    "extracted_data[\"line_items\"] = line_items\n",
    "print(json.dumps(extracted_data, indent=2))"
   ]
  },
  {
   "cell_type": "code",
   "execution_count": null,
   "metadata": {},
   "outputs": [],
   "source": [
    "# ✅ Optional: HuggingFace Donut Model\n",
    "try:\n",
    "    from transformers import DonutProcessor, VisionEncoderDecoderModel\n",
    "    import torch\n",
    "\n",
    "    processor = DonutProcessor.from_pretrained(\"naver-clova-ix/donut-base-finetuned-docvqa\")\n",
    "    model = VisionEncoderDecoderModel.from_pretrained(\"naver-clova-ix/donut-base-finetuned-docvqa\")\n",
    "\n",
    "    pixel_values = processor(img, return_tensors=\"pt\").pixel_values\n",
    "    task_prompt = \"<s_docvqa><s_question>What is the invoice number?<s_answer>\"\n",
    "    decoder_input_ids = processor.tokenizer(task_prompt, add_special_tokens=False, return_tensors=\"pt\").input_ids\n",
    "\n",
    "    outputs = model.generate(pixel_values, decoder_input_ids=decoder_input_ids, max_length=64)\n",
    "    result = processor.batch_decode(outputs, skip_special_tokens=True)[0]\n",
    "    print(\"Donut model answer:\", result)\n",
    "except Exception as e:\n",
    "    print(\"⚠️ Donut model not available:\", e)"
   ]
  },
  {
   "cell_type": "markdown",
   "metadata": {},
   "source": [
    "---\n",
    "## ✅ Next Steps (Scalable Design)\n",
    "- You can define **new regex patterns** or ML models for additional fields.\n",
    "- Extend schema in `extracted_data` dict for any new field.\n",
    "- Train HuggingFace Donut or LayoutLM on custom invoices for production use.\n",
    "\n",
    "---"
   ]
  }
 ],
 "metadata": {
  "kernelspec": {
   "display_name": "Python 3",
   "language": "python",
   "name": "python3"
  },
  "language_info": {
   "name": "python",
   "version": "3.10"
  }
 },
 "nbformat": 4,
 "nbformat_minor": 5
}
