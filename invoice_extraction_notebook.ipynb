{
 "cells": [
  {
   "cell_type": "markdown",
   "metadata": {},
   "source": [
    "**📄 Invoice Information Extraction Notebook**\n",
    "\n",
    "This notebook demonstrates how to extract **invoice number, date, and line items** from invoice images using:\n",
    "- HuggingFace invoice dataset (`katanaml-org/invoices-donut-data-v1`)\n",
    "- OCR with Tesseract\n",
    "- Regex-based extraction\n",
    "- Optional HuggingFace Donut model\n",
    "\n",
    "---"
   ]
  },
  {
   "cell_type": "code",
   "execution_count": null,
   "metadata": {},
   "outputs": [
    {
     "name": "stdout",
     "output_type": "stream",
     "text": [
      "Requirement already satisfied: datasets in c:\\users\\admin\\downloads\\pythonn\\venv\\lib\\site-packages (4.0.0)\n",
      "Requirement already satisfied: pytesseract in c:\\users\\admin\\downloads\\pythonn\\venv\\lib\\site-packages (0.3.13)\n",
      "Requirement already satisfied: pillow in c:\\users\\admin\\downloads\\pythonn\\venv\\lib\\site-packages (11.3.0)\n",
      "Requirement already satisfied: pdf2image in c:\\users\\admin\\downloads\\pythonn\\venv\\lib\\site-packages (1.17.0)\n",
      "Requirement already satisfied: matplotlib in c:\\users\\admin\\downloads\\pythonn\\venv\\lib\\site-packages (3.10.6)\n",
      "Requirement already satisfied: filelock in c:\\users\\admin\\downloads\\pythonn\\venv\\lib\\site-packages (from datasets) (3.19.1)\n",
      "Requirement already satisfied: numpy>=1.17 in c:\\users\\admin\\downloads\\pythonn\\venv\\lib\\site-packages (from datasets) (2.2.6)\n",
      "Requirement already satisfied: pyarrow>=15.0.0 in c:\\users\\admin\\downloads\\pythonn\\venv\\lib\\site-packages (from datasets) (21.0.0)\n",
      "Requirement already satisfied: dill<0.3.9,>=0.3.0 in c:\\users\\admin\\downloads\\pythonn\\venv\\lib\\site-packages (from datasets) (0.3.8)\n",
      "Requirement already satisfied: pandas in c:\\users\\admin\\downloads\\pythonn\\venv\\lib\\site-packages (from datasets) (2.3.2)\n",
      "Requirement already satisfied: requests>=2.32.2 in c:\\users\\admin\\downloads\\pythonn\\venv\\lib\\site-packages (from datasets) (2.32.5)\n",
      "Requirement already satisfied: tqdm>=4.66.3 in c:\\users\\admin\\downloads\\pythonn\\venv\\lib\\site-packages (from datasets) (4.67.1)\n",
      "Requirement already satisfied: xxhash in c:\\users\\admin\\downloads\\pythonn\\venv\\lib\\site-packages (from datasets) (3.5.0)\n",
      "Requirement already satisfied: multiprocess<0.70.17 in c:\\users\\admin\\downloads\\pythonn\\venv\\lib\\site-packages (from datasets) (0.70.16)\n",
      "Requirement already satisfied: fsspec<=2025.3.0,>=2023.1.0 in c:\\users\\admin\\downloads\\pythonn\\venv\\lib\\site-packages (from fsspec[http]<=2025.3.0,>=2023.1.0->datasets) (2025.3.0)\n",
      "Requirement already satisfied: huggingface-hub>=0.24.0 in c:\\users\\admin\\downloads\\pythonn\\venv\\lib\\site-packages (from datasets) (0.34.4)\n",
      "Requirement already satisfied: packaging in c:\\users\\admin\\downloads\\pythonn\\venv\\lib\\site-packages (from datasets) (25.0)\n",
      "Requirement already satisfied: pyyaml>=5.1 in c:\\users\\admin\\downloads\\pythonn\\venv\\lib\\site-packages (from datasets) (6.0.2)\n",
      "Requirement already satisfied: contourpy>=1.0.1 in c:\\users\\admin\\downloads\\pythonn\\venv\\lib\\site-packages (from matplotlib) (1.3.3)\n",
      "Requirement already satisfied: cycler>=0.10 in c:\\users\\admin\\downloads\\pythonn\\venv\\lib\\site-packages (from matplotlib) (0.12.1)\n",
      "Requirement already satisfied: fonttools>=4.22.0 in c:\\users\\admin\\downloads\\pythonn\\venv\\lib\\site-packages (from matplotlib) (4.59.2)\n",
      "Requirement already satisfied: kiwisolver>=1.3.1 in c:\\users\\admin\\downloads\\pythonn\\venv\\lib\\site-packages (from matplotlib) (1.4.9)\n",
      "Requirement already satisfied: pyparsing>=2.3.1 in c:\\users\\admin\\downloads\\pythonn\\venv\\lib\\site-packages (from matplotlib) (3.2.3)\n",
      "Requirement already satisfied: python-dateutil>=2.7 in c:\\users\\admin\\downloads\\pythonn\\venv\\lib\\site-packages (from matplotlib) (2.9.0.post0)\n",
      "Requirement already satisfied: aiohttp!=4.0.0a0,!=4.0.0a1 in c:\\users\\admin\\downloads\\pythonn\\venv\\lib\\site-packages (from fsspec[http]<=2025.3.0,>=2023.1.0->datasets) (3.12.15)\n",
      "Requirement already satisfied: typing-extensions>=3.7.4.3 in c:\\users\\admin\\downloads\\pythonn\\venv\\lib\\site-packages (from huggingface-hub>=0.24.0->datasets) (4.15.0)\n",
      "Requirement already satisfied: six>=1.5 in c:\\users\\admin\\downloads\\pythonn\\venv\\lib\\site-packages (from python-dateutil>=2.7->matplotlib) (1.17.0)\n",
      "Requirement already satisfied: charset_normalizer<4,>=2 in c:\\users\\admin\\downloads\\pythonn\\venv\\lib\\site-packages (from requests>=2.32.2->datasets) (3.4.3)\n",
      "Requirement already satisfied: idna<4,>=2.5 in c:\\users\\admin\\downloads\\pythonn\\venv\\lib\\site-packages (from requests>=2.32.2->datasets) (3.10)\n",
      "Requirement already satisfied: urllib3<3,>=1.21.1 in c:\\users\\admin\\downloads\\pythonn\\venv\\lib\\site-packages (from requests>=2.32.2->datasets) (2.5.0)\n",
      "Requirement already satisfied: certifi>=2017.4.17 in c:\\users\\admin\\downloads\\pythonn\\venv\\lib\\site-packages (from requests>=2.32.2->datasets) (2025.8.3)\n",
      "Requirement already satisfied: colorama in c:\\users\\admin\\downloads\\pythonn\\venv\\lib\\site-packages (from tqdm>=4.66.3->datasets) (0.4.6)\n",
      "Requirement already satisfied: pytz>=2020.1 in c:\\users\\admin\\downloads\\pythonn\\venv\\lib\\site-packages (from pandas->datasets) (2025.2)\n",
      "Requirement already satisfied: tzdata>=2022.7 in c:\\users\\admin\\downloads\\pythonn\\venv\\lib\\site-packages (from pandas->datasets) (2025.2)\n",
      "Requirement already satisfied: aiohappyeyeballs>=2.5.0 in c:\\users\\admin\\downloads\\pythonn\\venv\\lib\\site-packages (from aiohttp!=4.0.0a0,!=4.0.0a1->fsspec[http]<=2025.3.0,>=2023.1.0->datasets) (2.6.1)\n",
      "Requirement already satisfied: aiosignal>=1.4.0 in c:\\users\\admin\\downloads\\pythonn\\venv\\lib\\site-packages (from aiohttp!=4.0.0a0,!=4.0.0a1->fsspec[http]<=2025.3.0,>=2023.1.0->datasets) (1.4.0)\n",
      "Requirement already satisfied: attrs>=17.3.0 in c:\\users\\admin\\downloads\\pythonn\\venv\\lib\\site-packages (from aiohttp!=4.0.0a0,!=4.0.0a1->fsspec[http]<=2025.3.0,>=2023.1.0->datasets) (25.3.0)\n",
      "Requirement already satisfied: frozenlist>=1.1.1 in c:\\users\\admin\\downloads\\pythonn\\venv\\lib\\site-packages (from aiohttp!=4.0.0a0,!=4.0.0a1->fsspec[http]<=2025.3.0,>=2023.1.0->datasets) (1.7.0)\n",
      "Requirement already satisfied: multidict<7.0,>=4.5 in c:\\users\\admin\\downloads\\pythonn\\venv\\lib\\site-packages (from aiohttp!=4.0.0a0,!=4.0.0a1->fsspec[http]<=2025.3.0,>=2023.1.0->datasets) (6.6.4)\n",
      "Requirement already satisfied: propcache>=0.2.0 in c:\\users\\admin\\downloads\\pythonn\\venv\\lib\\site-packages (from aiohttp!=4.0.0a0,!=4.0.0a1->fsspec[http]<=2025.3.0,>=2023.1.0->datasets) (0.3.2)\n",
      "Requirement already satisfied: yarl<2.0,>=1.17.0 in c:\\users\\admin\\downloads\\pythonn\\venv\\lib\\site-packages (from aiohttp!=4.0.0a0,!=4.0.0a1->fsspec[http]<=2025.3.0,>=2023.1.0->datasets) (1.20.1)\n"
     ]
    },
    {
     "name": "stderr",
     "output_type": "stream",
     "text": [
      "\n",
      "[notice] A new release of pip is available: 25.0.1 -> 25.2\n",
      "[notice] To update, run: python.exe -m pip install --upgrade pip\n",
      "'apt-get' is not recognized as an internal or external command,\n",
      "operable program or batch file.\n"
     ]
    },
    {
     "name": "stdout",
     "output_type": "stream",
     "text": [
      "Requirement already satisfied: transformers in c:\\users\\admin\\downloads\\pythonn\\venv\\lib\\site-packages (4.56.1)\n",
      "Requirement already satisfied: accelerate in c:\\users\\admin\\downloads\\pythonn\\venv\\lib\\site-packages (1.10.1)\n",
      "Requirement already satisfied: timm in c:\\users\\admin\\downloads\\pythonn\\venv\\lib\\site-packages (1.0.19)\n",
      "Requirement already satisfied: sentencepiece in c:\\users\\admin\\downloads\\pythonn\\venv\\lib\\site-packages (0.2.1)\n",
      "Requirement already satisfied: filelock in c:\\users\\admin\\downloads\\pythonn\\venv\\lib\\site-packages (from transformers) (3.19.1)\n",
      "Requirement already satisfied: huggingface-hub<1.0,>=0.34.0 in c:\\users\\admin\\downloads\\pythonn\\venv\\lib\\site-packages (from transformers) (0.34.4)\n",
      "Requirement already satisfied: numpy>=1.17 in c:\\users\\admin\\downloads\\pythonn\\venv\\lib\\site-packages (from transformers) (2.2.6)\n",
      "Requirement already satisfied: packaging>=20.0 in c:\\users\\admin\\downloads\\pythonn\\venv\\lib\\site-packages (from transformers) (25.0)\n",
      "Requirement already satisfied: pyyaml>=5.1 in c:\\users\\admin\\downloads\\pythonn\\venv\\lib\\site-packages (from transformers) (6.0.2)\n",
      "Requirement already satisfied: regex!=2019.12.17 in c:\\users\\admin\\downloads\\pythonn\\venv\\lib\\site-packages (from transformers) (2025.9.1)\n",
      "Requirement already satisfied: requests in c:\\users\\admin\\downloads\\pythonn\\venv\\lib\\site-packages (from transformers) (2.32.5)\n",
      "Requirement already satisfied: tokenizers<=0.23.0,>=0.22.0 in c:\\users\\admin\\downloads\\pythonn\\venv\\lib\\site-packages (from transformers) (0.22.0)\n",
      "Requirement already satisfied: safetensors>=0.4.3 in c:\\users\\admin\\downloads\\pythonn\\venv\\lib\\site-packages (from transformers) (0.6.2)\n",
      "Requirement already satisfied: tqdm>=4.27 in c:\\users\\admin\\downloads\\pythonn\\venv\\lib\\site-packages (from transformers) (4.67.1)\n",
      "Requirement already satisfied: psutil in c:\\users\\admin\\downloads\\pythonn\\venv\\lib\\site-packages (from accelerate) (7.0.0)\n",
      "Requirement already satisfied: torch>=2.0.0 in c:\\users\\admin\\downloads\\pythonn\\venv\\lib\\site-packages (from accelerate) (2.8.0)\n",
      "Requirement already satisfied: torchvision in c:\\users\\admin\\downloads\\pythonn\\venv\\lib\\site-packages (from timm) (0.23.0)\n",
      "Requirement already satisfied: fsspec>=2023.5.0 in c:\\users\\admin\\downloads\\pythonn\\venv\\lib\\site-packages (from huggingface-hub<1.0,>=0.34.0->transformers) (2025.3.0)\n",
      "Requirement already satisfied: typing-extensions>=3.7.4.3 in c:\\users\\admin\\downloads\\pythonn\\venv\\lib\\site-packages (from huggingface-hub<1.0,>=0.34.0->transformers) (4.15.0)\n",
      "Requirement already satisfied: sympy>=1.13.3 in c:\\users\\admin\\downloads\\pythonn\\venv\\lib\\site-packages (from torch>=2.0.0->accelerate) (1.14.0)\n",
      "Requirement already satisfied: networkx in c:\\users\\admin\\downloads\\pythonn\\venv\\lib\\site-packages (from torch>=2.0.0->accelerate) (3.5)\n",
      "Requirement already satisfied: jinja2 in c:\\users\\admin\\downloads\\pythonn\\venv\\lib\\site-packages (from torch>=2.0.0->accelerate) (3.1.6)\n",
      "Requirement already satisfied: setuptools in c:\\users\\admin\\downloads\\pythonn\\venv\\lib\\site-packages (from torch>=2.0.0->accelerate) (80.9.0)\n",
      "Requirement already satisfied: colorama in c:\\users\\admin\\downloads\\pythonn\\venv\\lib\\site-packages (from tqdm>=4.27->transformers) (0.4.6)\n",
      "Requirement already satisfied: charset_normalizer<4,>=2 in c:\\users\\admin\\downloads\\pythonn\\venv\\lib\\site-packages (from requests->transformers) (3.4.3)\n",
      "Requirement already satisfied: idna<4,>=2.5 in c:\\users\\admin\\downloads\\pythonn\\venv\\lib\\site-packages (from requests->transformers) (3.10)\n",
      "Requirement already satisfied: urllib3<3,>=1.21.1 in c:\\users\\admin\\downloads\\pythonn\\venv\\lib\\site-packages (from requests->transformers) (2.5.0)\n",
      "Requirement already satisfied: certifi>=2017.4.17 in c:\\users\\admin\\downloads\\pythonn\\venv\\lib\\site-packages (from requests->transformers) (2025.8.3)\n",
      "Requirement already satisfied: pillow!=8.3.*,>=5.3.0 in c:\\users\\admin\\downloads\\pythonn\\venv\\lib\\site-packages (from torchvision->timm) (11.3.0)\n",
      "Requirement already satisfied: mpmath<1.4,>=1.1.0 in c:\\users\\admin\\downloads\\pythonn\\venv\\lib\\site-packages (from sympy>=1.13.3->torch>=2.0.0->accelerate) (1.3.0)\n",
      "Requirement already satisfied: MarkupSafe>=2.0 in c:\\users\\admin\\downloads\\pythonn\\venv\\lib\\site-packages (from jinja2->torch>=2.0.0->accelerate) (3.0.2)\n"
     ]
    },
    {
     "name": "stderr",
     "output_type": "stream",
     "text": [
      "\n",
      "[notice] A new release of pip is available: 25.0.1 -> 25.2\n",
      "[notice] To update, run: python.exe -m pip install --upgrade pip\n"
     ]
    }
   ],
   "source": [
    "!pip install datasets pytesseract pillow pdf2image matplotlib\n",
    "!apt-get install -y tesseract-ocr\n",
    "\n",
    "!pip install transformers accelerate timm sentencepiece"
   ]
  },
  {
   "cell_type": "code",
   "execution_count": null,
   "metadata": {},
   "outputs": [
    {
     "data": {
      "image/png": "[encoded data removed]",
      "text/plain": [
       "<Figure size 640x480 with 1 Axes>"
      ]
     },
     "metadata": {},
     "output_type": "display_data"
    },
    {
     "name": "stdout",
     "output_type": "stream",
     "text": [
      "Invoice no: 40378170\n",
      "\n",
      "Date of issue:\n",
      "\n",
      "Seller:\n",
      "\n",
      "Patel, Thompson and Montgomery\n",
      "356 Kyle Vista\n",
      "New James, MA 46228\n",
      "\n",
      "Tax Id: 958-74-3511\n",
      "IBAN: GB77WRBQ31965128414006\n",
      "\n",
      "ITEMS\n",
      "No. Description Qty\n",
      "1. Leed's Wine Companion Bottle 1,00\n",
      "\n",
      "Corkscrew Opener Gift Box Set\n",
      "with Foil Cutter\n",
      "\n",
      "SUMMARY\n",
      "\n",
      "VAT [%]\n",
      "10%\n",
      "\n",
      "Total\n",
      "\n",
      "10/15/2012\n",
      "\n",
      "Client:\n",
      "\n",
      "Jackson, Odonnell and Jackson\n",
      "267 John Track Suite 841\n",
      "Jenniferville, PA 98601\n",
      "\n",
      "Tax Id: 998-87-7723\n",
      "\n",
      "UM Net price Net worth VAT [%] Gross\n",
      "worth\n",
      "\n",
      "each 7,50 7,50 10% 8,25\n",
      "Net worth VAT Gross worth\n",
      "\n",
      "7,50 0,75 8,25\n",
      "\n",
      "$ 7,50 $ 0,75 $ 8,25\n",
      "\n"
     ]
    }
   ],
   "source": [
    "from datasets import load_dataset\n",
    "import pytesseract\n",
    "from PIL import Image\n",
    "import re, json\n",
    "import matplotlib.pyplot as plt\n",
    "\n",
    "pytesseract.pytesseract.tesseract_cmd = r\"C:\\Program Files\\Tesseract-OCR\\tesseract.exe\"\n",
    "\n",
    "dataset = load_dataset(\"katanaml-org/invoices-donut-data-v1\")\n",
    "\n",
    "sample = dataset['train'][0]\n",
    "img = sample['image']\n",
    "\n",
    "plt.imshow(img)\n",
    "plt.axis('off')\n",
    "plt.show()\n",
    "\n",
    "text = pytesseract.image_to_string(img)\n",
    "print(text[:1000])  "
   ]
  },
  {
   "cell_type": "code",
   "execution_count": null,
   "metadata": {},
   "outputs": [
    {
     "name": "stdout",
     "output_type": "stream",
     "text": [
      "{\n",
      "  \"invoice_number\": \"40378170\",\n",
      "  \"invoice_date\": null,\n",
      "  \"total_amount\": \"10\"\n",
      "}\n"
     ]
    }
   ],
   "source": [
    "invoice_number = re.search(r\"Invoice\\s*No\\.?[:\\s]*([A-Za-z0-9-]+)\", text, re.IGNORECASE)\n",
    "invoice_date = re.search(r\"Date[:\\s]*([0-9]{2}/[0-9]{2}/[0-9]{4})\", text, re.IGNORECASE)\n",
    "total_amount = re.search(r\"Total[:\\s]*\\$?([0-9,.]+)\", text, re.IGNORECASE)\n",
    "\n",
    "extracted_data = {\n",
    "    \"invoice_number\": invoice_number.group(1) if invoice_number else None,\n",
    "    \"invoice_date\": invoice_date.group(1) if invoice_date else None,\n",
    "    \"total_amount\": total_amount.group(1) if total_amount else None,\n",
    "}\n",
    "\n",
    "print(json.dumps(extracted_data, indent=2))"
   ]
  },
  {
   "cell_type": "code",
   "execution_count": null,
   "metadata": {},
   "outputs": [
    {
     "name": "stdout",
     "output_type": "stream",
     "text": [
      "{\n",
      "  \"invoice_number\": \"40378170\",\n",
      "  \"invoice_date\": null,\n",
      "  \"total_amount\": \"10\",\n",
      "  \"line_items\": []\n",
      "}\n"
     ]
    }
   ],
   "source": [
    "lines = text.split('\\n')\n",
    "line_items = []\n",
    "for line in lines:\n",
    "    if re.search(r\"[0-9]+\\s+x\\s+\\$?[0-9,.]+\", line):\n",
    "        line_items.append(line.strip())\n",
    "\n",
    "extracted_data[\"line_items\"] = line_items\n",
    "print(json.dumps(extracted_data, indent=2))"
   ]
  },
  {
   "cell_type": "code",
   "execution_count": null,
   "metadata": {},
   "outputs": [
    {
     "name": "stderr",
     "output_type": "stream",
     "text": [
      "Fetching 1 files: 100%|██████████| 1/1 [00:00<00:00, 10837.99it/s]\n",
      "Xet Storage is enabled for this repo, but the 'hf_xet' package is not installed. Falling back to regular HTTP download. For better performance, install the package with: `pip install huggingface_hub[hf_xet]` or `pip install hf_xet`\n",
      "Xet Storage is enabled for this repo, but the 'hf_xet' package is not installed. Falling back to regular HTTP download. For better performance, install the package with: `pip install huggingface_hub[hf_xet]` or `pip install hf_xet`\n"
     ]
    },
    {
     "name": "stdout",
     "output_type": "stream",
     "text": [
      "Donut model answer: What is the invoice number? 40378170\n"
     ]
    }
   ],
   "source": [
    "try:\n",
    "    from transformers import DonutProcessor, VisionEncoderDecoderModel\n",
    "    import torch\n",
    "\n",
    "    processor = DonutProcessor.from_pretrained(\"naver-clova-ix/donut-base-finetuned-docvqa\")\n",
    "    model = VisionEncoderDecoderModel.from_pretrained(\"naver-clova-ix/donut-base-finetuned-docvqa\")\n",
    "\n",
    "    pixel_values = processor(img, return_tensors=\"pt\").pixel_values\n",
    "    task_prompt = \"<s_docvqa><s_question>What is the invoice number?<s_answer>\"\n",
    "    decoder_input_ids = processor.tokenizer(task_prompt, add_special_tokens=False, return_tensors=\"pt\").input_ids\n",
    "\n",
    "    outputs = model.generate(pixel_values, decoder_input_ids=decoder_input_ids, max_length=64)\n",
    "    result = processor.batch_decode(outputs, skip_special_tokens=True)[0]\n",
    "    print(\"Donut model answer:\", result)\n",
    "except Exception as e:\n",
    "    print(\"⚠️ Donut model not available:\", e)"
   ]
  }
 ],
 "metadata": {
  "kernelspec": {
   "display_name": "venv (3.13.3)",
   "language": "python",
   "name": "python3"
  },
  "language_info": {
   "codemirror_mode": {
    "name": "ipython",
    "version": 3
   },
   "file_extension": ".py",
   "mimetype": "text/x-python",
   "name": "python",
   "nbconvert_exporter": "python",
   "pygments_lexer": "ipython3",
   "version": "3.13.3"
  }
 },
 "nbformat": 4,
 "nbformat_minor": 5
}
